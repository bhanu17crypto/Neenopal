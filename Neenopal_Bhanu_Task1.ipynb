{
 "cells": [
  {
   "cell_type": "markdown",
   "id": "4f041f7f",
   "metadata": {},
   "source": [
    "# Task 1- Record Matching Data File\n",
    "   ## bhanu\n"
   ]
  },
  {
   "cell_type": "code",
   "execution_count": 1,
   "id": "fb4dd28d",
   "metadata": {},
   "outputs": [],
   "source": [
    "import pandas as pd"
   ]
  },
  {
   "cell_type": "code",
   "execution_count": 2,
   "id": "3a5d5365",
   "metadata": {},
   "outputs": [],
   "source": [
    "df1 = pd.read_excel('Record_Matching_Data1.xlsx' , sheet_name = 'data1')\n",
    "df2 = pd.read_excel('Record_Matching_Data2.xlsx' , sheet_name = 'data2')"
   ]
  },
  {
   "cell_type": "code",
   "execution_count": 3,
   "id": "8f18e95f",
   "metadata": {},
   "outputs": [
    {
     "data": {
      "text/html": [
       "<div>\n",
       "<style scoped>\n",
       "    .dataframe tbody tr th:only-of-type {\n",
       "        vertical-align: middle;\n",
       "    }\n",
       "\n",
       "    .dataframe tbody tr th {\n",
       "        vertical-align: top;\n",
       "    }\n",
       "\n",
       "    .dataframe thead th {\n",
       "        text-align: right;\n",
       "    }\n",
       "</style>\n",
       "<table border=\"1\" class=\"dataframe\">\n",
       "  <thead>\n",
       "    <tr style=\"text-align: right;\">\n",
       "      <th></th>\n",
       "      <th>Order ID</th>\n",
       "      <th>Product ID</th>\n",
       "      <th>Qty</th>\n",
       "    </tr>\n",
       "  </thead>\n",
       "  <tbody>\n",
       "    <tr>\n",
       "      <th>0</th>\n",
       "      <td>CA-2014-100006</td>\n",
       "      <td>TEC-PH-10002075</td>\n",
       "      <td>3</td>\n",
       "    </tr>\n",
       "    <tr>\n",
       "      <th>1</th>\n",
       "      <td>CA-2014-100090</td>\n",
       "      <td>FUR-TA-10003715</td>\n",
       "      <td>3</td>\n",
       "    </tr>\n",
       "    <tr>\n",
       "      <th>2</th>\n",
       "      <td>CA-2014-100090</td>\n",
       "      <td>OFF-BI-10001597</td>\n",
       "      <td>6</td>\n",
       "    </tr>\n",
       "    <tr>\n",
       "      <th>3</th>\n",
       "      <td>CA-2014-100293</td>\n",
       "      <td>OFF-PA-10000176</td>\n",
       "      <td>6</td>\n",
       "    </tr>\n",
       "    <tr>\n",
       "      <th>4</th>\n",
       "      <td>CA-2014-100328</td>\n",
       "      <td>OFF-BI-10000343</td>\n",
       "      <td>1</td>\n",
       "    </tr>\n",
       "  </tbody>\n",
       "</table>\n",
       "</div>"
      ],
      "text/plain": [
       "         Order ID       Product ID  Qty\n",
       "0  CA-2014-100006  TEC-PH-10002075    3\n",
       "1  CA-2014-100090  FUR-TA-10003715    3\n",
       "2  CA-2014-100090  OFF-BI-10001597    6\n",
       "3  CA-2014-100293  OFF-PA-10000176    6\n",
       "4  CA-2014-100328  OFF-BI-10000343    1"
      ]
     },
     "execution_count": 3,
     "metadata": {},
     "output_type": "execute_result"
    }
   ],
   "source": [
    "df1.head()"
   ]
  },
  {
   "cell_type": "code",
   "execution_count": 4,
   "id": "00dc4f7d",
   "metadata": {},
   "outputs": [
    {
     "data": {
      "text/html": [
       "<div>\n",
       "<style scoped>\n",
       "    .dataframe tbody tr th:only-of-type {\n",
       "        vertical-align: middle;\n",
       "    }\n",
       "\n",
       "    .dataframe tbody tr th {\n",
       "        vertical-align: top;\n",
       "    }\n",
       "\n",
       "    .dataframe thead th {\n",
       "        text-align: right;\n",
       "    }\n",
       "</style>\n",
       "<table border=\"1\" class=\"dataframe\">\n",
       "  <thead>\n",
       "    <tr style=\"text-align: right;\">\n",
       "      <th></th>\n",
       "      <th>Order ID</th>\n",
       "      <th>Product ID</th>\n",
       "      <th>Qty</th>\n",
       "    </tr>\n",
       "  </thead>\n",
       "  <tbody>\n",
       "    <tr>\n",
       "      <th>0</th>\n",
       "      <td>CA-2014-100090</td>\n",
       "      <td>FUR-TA-10003715</td>\n",
       "      <td>3</td>\n",
       "    </tr>\n",
       "    <tr>\n",
       "      <th>1</th>\n",
       "      <td>CA-2014-100090</td>\n",
       "      <td>OFF-BI-10001597</td>\n",
       "      <td>6</td>\n",
       "    </tr>\n",
       "    <tr>\n",
       "      <th>2</th>\n",
       "      <td>CA-2014-100293</td>\n",
       "      <td>OFF-PA-10000176</td>\n",
       "      <td>6</td>\n",
       "    </tr>\n",
       "    <tr>\n",
       "      <th>3</th>\n",
       "      <td>CA-2014-100328</td>\n",
       "      <td>OFF-BI-10000343</td>\n",
       "      <td>1</td>\n",
       "    </tr>\n",
       "    <tr>\n",
       "      <th>4</th>\n",
       "      <td>CA-2014-100363</td>\n",
       "      <td>OFF-FA-10000611</td>\n",
       "      <td>2</td>\n",
       "    </tr>\n",
       "  </tbody>\n",
       "</table>\n",
       "</div>"
      ],
      "text/plain": [
       "         Order ID       Product ID  Qty\n",
       "0  CA-2014-100090  FUR-TA-10003715    3\n",
       "1  CA-2014-100090  OFF-BI-10001597    6\n",
       "2  CA-2014-100293  OFF-PA-10000176    6\n",
       "3  CA-2014-100328  OFF-BI-10000343    1\n",
       "4  CA-2014-100363  OFF-FA-10000611    2"
      ]
     },
     "execution_count": 4,
     "metadata": {},
     "output_type": "execute_result"
    }
   ],
   "source": [
    "df2.head()"
   ]
  },
  {
   "cell_type": "code",
   "execution_count": 5,
   "id": "2c486f87",
   "metadata": {},
   "outputs": [
    {
     "data": {
      "text/plain": [
       "Order ID      0\n",
       "Product ID    0\n",
       "Qty           0\n",
       "dtype: int64"
      ]
     },
     "execution_count": 5,
     "metadata": {},
     "output_type": "execute_result"
    }
   ],
   "source": [
    "#No of null values \n",
    "df1.isnull().sum()"
   ]
  },
  {
   "cell_type": "code",
   "execution_count": 6,
   "id": "d7cad8dd",
   "metadata": {},
   "outputs": [
    {
     "data": {
      "text/plain": [
       "Order ID      0\n",
       "Product ID    0\n",
       "Qty           0\n",
       "dtype: int64"
      ]
     },
     "execution_count": 6,
     "metadata": {},
     "output_type": "execute_result"
    }
   ],
   "source": [
    "#No of null values\n",
    "df2.isnull().sum()"
   ]
  },
  {
   "cell_type": "code",
   "execution_count": 7,
   "id": "9363a914",
   "metadata": {},
   "outputs": [],
   "source": [
    "df1[\"PK1\"] = df1[\"Order ID\"]+df1[\"Product ID\"] #for data1\n",
    "df2[\"PK2\"] = df2[\"Order ID\"]+df2[\"Product ID\"] #for data2"
   ]
  },
  {
   "cell_type": "code",
   "execution_count": 8,
   "id": "3bbb303e",
   "metadata": {},
   "outputs": [
    {
     "data": {
      "text/html": [
       "<div>\n",
       "<style scoped>\n",
       "    .dataframe tbody tr th:only-of-type {\n",
       "        vertical-align: middle;\n",
       "    }\n",
       "\n",
       "    .dataframe tbody tr th {\n",
       "        vertical-align: top;\n",
       "    }\n",
       "\n",
       "    .dataframe thead th {\n",
       "        text-align: right;\n",
       "    }\n",
       "</style>\n",
       "<table border=\"1\" class=\"dataframe\">\n",
       "  <thead>\n",
       "    <tr style=\"text-align: right;\">\n",
       "      <th></th>\n",
       "      <th>Order ID</th>\n",
       "      <th>Product ID</th>\n",
       "      <th>Qty</th>\n",
       "      <th>PK1</th>\n",
       "    </tr>\n",
       "  </thead>\n",
       "  <tbody>\n",
       "    <tr>\n",
       "      <th>0</th>\n",
       "      <td>CA-2014-100006</td>\n",
       "      <td>TEC-PH-10002075</td>\n",
       "      <td>3</td>\n",
       "      <td>CA-2014-100006TEC-PH-10002075</td>\n",
       "    </tr>\n",
       "    <tr>\n",
       "      <th>1</th>\n",
       "      <td>CA-2014-100090</td>\n",
       "      <td>FUR-TA-10003715</td>\n",
       "      <td>3</td>\n",
       "      <td>CA-2014-100090FUR-TA-10003715</td>\n",
       "    </tr>\n",
       "    <tr>\n",
       "      <th>2</th>\n",
       "      <td>CA-2014-100090</td>\n",
       "      <td>OFF-BI-10001597</td>\n",
       "      <td>6</td>\n",
       "      <td>CA-2014-100090OFF-BI-10001597</td>\n",
       "    </tr>\n",
       "    <tr>\n",
       "      <th>3</th>\n",
       "      <td>CA-2014-100293</td>\n",
       "      <td>OFF-PA-10000176</td>\n",
       "      <td>6</td>\n",
       "      <td>CA-2014-100293OFF-PA-10000176</td>\n",
       "    </tr>\n",
       "    <tr>\n",
       "      <th>4</th>\n",
       "      <td>CA-2014-100328</td>\n",
       "      <td>OFF-BI-10000343</td>\n",
       "      <td>1</td>\n",
       "      <td>CA-2014-100328OFF-BI-10000343</td>\n",
       "    </tr>\n",
       "  </tbody>\n",
       "</table>\n",
       "</div>"
      ],
      "text/plain": [
       "         Order ID       Product ID  Qty                            PK1\n",
       "0  CA-2014-100006  TEC-PH-10002075    3  CA-2014-100006TEC-PH-10002075\n",
       "1  CA-2014-100090  FUR-TA-10003715    3  CA-2014-100090FUR-TA-10003715\n",
       "2  CA-2014-100090  OFF-BI-10001597    6  CA-2014-100090OFF-BI-10001597\n",
       "3  CA-2014-100293  OFF-PA-10000176    6  CA-2014-100293OFF-PA-10000176\n",
       "4  CA-2014-100328  OFF-BI-10000343    1  CA-2014-100328OFF-BI-10000343"
      ]
     },
     "execution_count": 8,
     "metadata": {},
     "output_type": "execute_result"
    }
   ],
   "source": [
    "df1.head()"
   ]
  },
  {
   "cell_type": "code",
   "execution_count": 9,
   "id": "fb99b4d0",
   "metadata": {},
   "outputs": [
    {
     "data": {
      "text/html": [
       "<div>\n",
       "<style scoped>\n",
       "    .dataframe tbody tr th:only-of-type {\n",
       "        vertical-align: middle;\n",
       "    }\n",
       "\n",
       "    .dataframe tbody tr th {\n",
       "        vertical-align: top;\n",
       "    }\n",
       "\n",
       "    .dataframe thead th {\n",
       "        text-align: right;\n",
       "    }\n",
       "</style>\n",
       "<table border=\"1\" class=\"dataframe\">\n",
       "  <thead>\n",
       "    <tr style=\"text-align: right;\">\n",
       "      <th></th>\n",
       "      <th>Order ID_x</th>\n",
       "      <th>Product ID_x</th>\n",
       "      <th>Qty_x</th>\n",
       "      <th>PK1</th>\n",
       "      <th>Order ID_y</th>\n",
       "      <th>Product ID_y</th>\n",
       "      <th>Qty_y</th>\n",
       "      <th>PK2</th>\n",
       "    </tr>\n",
       "  </thead>\n",
       "  <tbody>\n",
       "    <tr>\n",
       "      <th>0</th>\n",
       "      <td>CA-2014-100006</td>\n",
       "      <td>TEC-PH-10002075</td>\n",
       "      <td>3.0</td>\n",
       "      <td>CA-2014-100006TEC-PH-10002075</td>\n",
       "      <td>NaN</td>\n",
       "      <td>NaN</td>\n",
       "      <td>NaN</td>\n",
       "      <td>NaN</td>\n",
       "    </tr>\n",
       "    <tr>\n",
       "      <th>1</th>\n",
       "      <td>CA-2014-100090</td>\n",
       "      <td>FUR-TA-10003715</td>\n",
       "      <td>3.0</td>\n",
       "      <td>CA-2014-100090FUR-TA-10003715</td>\n",
       "      <td>CA-2014-100090</td>\n",
       "      <td>FUR-TA-10003715</td>\n",
       "      <td>3.0</td>\n",
       "      <td>CA-2014-100090FUR-TA-10003715</td>\n",
       "    </tr>\n",
       "    <tr>\n",
       "      <th>2</th>\n",
       "      <td>CA-2014-100090</td>\n",
       "      <td>OFF-BI-10001597</td>\n",
       "      <td>6.0</td>\n",
       "      <td>CA-2014-100090OFF-BI-10001597</td>\n",
       "      <td>CA-2014-100090</td>\n",
       "      <td>OFF-BI-10001597</td>\n",
       "      <td>6.0</td>\n",
       "      <td>CA-2014-100090OFF-BI-10001597</td>\n",
       "    </tr>\n",
       "    <tr>\n",
       "      <th>3</th>\n",
       "      <td>CA-2014-100293</td>\n",
       "      <td>OFF-PA-10000176</td>\n",
       "      <td>6.0</td>\n",
       "      <td>CA-2014-100293OFF-PA-10000176</td>\n",
       "      <td>CA-2014-100293</td>\n",
       "      <td>OFF-PA-10000176</td>\n",
       "      <td>6.0</td>\n",
       "      <td>CA-2014-100293OFF-PA-10000176</td>\n",
       "    </tr>\n",
       "    <tr>\n",
       "      <th>4</th>\n",
       "      <td>CA-2014-100328</td>\n",
       "      <td>OFF-BI-10000343</td>\n",
       "      <td>1.0</td>\n",
       "      <td>CA-2014-100328OFF-BI-10000343</td>\n",
       "      <td>CA-2014-100328</td>\n",
       "      <td>OFF-BI-10000343</td>\n",
       "      <td>1.0</td>\n",
       "      <td>CA-2014-100328OFF-BI-10000343</td>\n",
       "    </tr>\n",
       "    <tr>\n",
       "      <th>...</th>\n",
       "      <td>...</td>\n",
       "      <td>...</td>\n",
       "      <td>...</td>\n",
       "      <td>...</td>\n",
       "      <td>...</td>\n",
       "      <td>...</td>\n",
       "      <td>...</td>\n",
       "      <td>...</td>\n",
       "    </tr>\n",
       "    <tr>\n",
       "      <th>9981</th>\n",
       "      <td>NaN</td>\n",
       "      <td>NaN</td>\n",
       "      <td>NaN</td>\n",
       "      <td>NaN</td>\n",
       "      <td>US-2017-165344</td>\n",
       "      <td>OFF-BI-10003196</td>\n",
       "      <td>10.0</td>\n",
       "      <td>US-2017-165344OFF-BI-10003196</td>\n",
       "    </tr>\n",
       "    <tr>\n",
       "      <th>9982</th>\n",
       "      <td>NaN</td>\n",
       "      <td>NaN</td>\n",
       "      <td>NaN</td>\n",
       "      <td>NaN</td>\n",
       "      <td>US-2017-165358</td>\n",
       "      <td>TEC-CO-10001943</td>\n",
       "      <td>5.0</td>\n",
       "      <td>US-2017-165358TEC-CO-10001943</td>\n",
       "    </tr>\n",
       "    <tr>\n",
       "      <th>9983</th>\n",
       "      <td>NaN</td>\n",
       "      <td>NaN</td>\n",
       "      <td>NaN</td>\n",
       "      <td>NaN</td>\n",
       "      <td>US-2017-167920</td>\n",
       "      <td>OFF-AP-10000159</td>\n",
       "      <td>5.0</td>\n",
       "      <td>US-2017-167920OFF-AP-10000159</td>\n",
       "    </tr>\n",
       "    <tr>\n",
       "      <th>9984</th>\n",
       "      <td>NaN</td>\n",
       "      <td>NaN</td>\n",
       "      <td>NaN</td>\n",
       "      <td>NaN</td>\n",
       "      <td>US-2017-169502</td>\n",
       "      <td>OFF-AP-10001947</td>\n",
       "      <td>5.0</td>\n",
       "      <td>US-2017-169502OFF-AP-10001947</td>\n",
       "    </tr>\n",
       "    <tr>\n",
       "      <th>9985</th>\n",
       "      <td>NaN</td>\n",
       "      <td>NaN</td>\n",
       "      <td>NaN</td>\n",
       "      <td>NaN</td>\n",
       "      <td>US-2017-169551</td>\n",
       "      <td>FUR-BO-10001519</td>\n",
       "      <td>3.0</td>\n",
       "      <td>US-2017-169551FUR-BO-10001519</td>\n",
       "    </tr>\n",
       "  </tbody>\n",
       "</table>\n",
       "<p>9986 rows × 8 columns</p>\n",
       "</div>"
      ],
      "text/plain": [
       "          Order ID_x     Product ID_x  Qty_x                            PK1  \\\n",
       "0     CA-2014-100006  TEC-PH-10002075    3.0  CA-2014-100006TEC-PH-10002075   \n",
       "1     CA-2014-100090  FUR-TA-10003715    3.0  CA-2014-100090FUR-TA-10003715   \n",
       "2     CA-2014-100090  OFF-BI-10001597    6.0  CA-2014-100090OFF-BI-10001597   \n",
       "3     CA-2014-100293  OFF-PA-10000176    6.0  CA-2014-100293OFF-PA-10000176   \n",
       "4     CA-2014-100328  OFF-BI-10000343    1.0  CA-2014-100328OFF-BI-10000343   \n",
       "...              ...              ...    ...                            ...   \n",
       "9981             NaN              NaN    NaN                            NaN   \n",
       "9982             NaN              NaN    NaN                            NaN   \n",
       "9983             NaN              NaN    NaN                            NaN   \n",
       "9984             NaN              NaN    NaN                            NaN   \n",
       "9985             NaN              NaN    NaN                            NaN   \n",
       "\n",
       "          Order ID_y     Product ID_y  Qty_y                            PK2  \n",
       "0                NaN              NaN    NaN                            NaN  \n",
       "1     CA-2014-100090  FUR-TA-10003715    3.0  CA-2014-100090FUR-TA-10003715  \n",
       "2     CA-2014-100090  OFF-BI-10001597    6.0  CA-2014-100090OFF-BI-10001597  \n",
       "3     CA-2014-100293  OFF-PA-10000176    6.0  CA-2014-100293OFF-PA-10000176  \n",
       "4     CA-2014-100328  OFF-BI-10000343    1.0  CA-2014-100328OFF-BI-10000343  \n",
       "...              ...              ...    ...                            ...  \n",
       "9981  US-2017-165344  OFF-BI-10003196   10.0  US-2017-165344OFF-BI-10003196  \n",
       "9982  US-2017-165358  TEC-CO-10001943    5.0  US-2017-165358TEC-CO-10001943  \n",
       "9983  US-2017-167920  OFF-AP-10000159    5.0  US-2017-167920OFF-AP-10000159  \n",
       "9984  US-2017-169502  OFF-AP-10001947    5.0  US-2017-169502OFF-AP-10001947  \n",
       "9985  US-2017-169551  FUR-BO-10001519    3.0  US-2017-169551FUR-BO-10001519  \n",
       "\n",
       "[9986 rows x 8 columns]"
      ]
     },
     "execution_count": 9,
     "metadata": {},
     "output_type": "execute_result"
    }
   ],
   "source": [
    "# Merging of the datasets\n",
    "df = df1.merge(df2 , how = 'outer' , left_on = ['PK1'] , right_on = ['PK2'])\n",
    "df"
   ]
  },
  {
   "cell_type": "code",
   "execution_count": 10,
   "id": "258512ce",
   "metadata": {},
   "outputs": [
    {
     "data": {
      "text/plain": [
       "Order ID_x      508\n",
       "Product ID_x    508\n",
       "Qty_x           508\n",
       "PK1             508\n",
       "Order ID_y      507\n",
       "Product ID_y    507\n",
       "Qty_y           507\n",
       "PK2             507\n",
       "dtype: int64"
      ]
     },
     "execution_count": 10,
     "metadata": {},
     "output_type": "execute_result"
    }
   ],
   "source": [
    "#Checking the null values after the merge\n",
    "df.isnull().sum()\n"
   ]
  },
  {
   "cell_type": "markdown",
   "id": "65e82b9d",
   "metadata": {},
   "source": [
    "# Question 1"
   ]
  },
  {
   "cell_type": "markdown",
   "id": "e0d98e91",
   "metadata": {},
   "source": [
    "## How to identify the Records (Order ID + Product ID combination) present in data1 but missing in data2"
   ]
  },
  {
   "cell_type": "code",
   "execution_count": 11,
   "id": "d15236ef",
   "metadata": {},
   "outputs": [
    {
     "data": {
      "text/html": [
       "<div>\n",
       "<style scoped>\n",
       "    .dataframe tbody tr th:only-of-type {\n",
       "        vertical-align: middle;\n",
       "    }\n",
       "\n",
       "    .dataframe tbody tr th {\n",
       "        vertical-align: top;\n",
       "    }\n",
       "\n",
       "    .dataframe thead th {\n",
       "        text-align: right;\n",
       "    }\n",
       "</style>\n",
       "<table border=\"1\" class=\"dataframe\">\n",
       "  <thead>\n",
       "    <tr style=\"text-align: right;\">\n",
       "      <th></th>\n",
       "      <th>Order ID_x</th>\n",
       "      <th>Product ID_x</th>\n",
       "      <th>Qty_x</th>\n",
       "      <th>PK1</th>\n",
       "      <th>Order ID_y</th>\n",
       "      <th>Product ID_y</th>\n",
       "      <th>Qty_y</th>\n",
       "      <th>PK2</th>\n",
       "    </tr>\n",
       "  </thead>\n",
       "  <tbody>\n",
       "    <tr>\n",
       "      <th>0</th>\n",
       "      <td>CA-2014-100006</td>\n",
       "      <td>TEC-PH-10002075</td>\n",
       "      <td>3.0</td>\n",
       "      <td>CA-2014-100006TEC-PH-10002075</td>\n",
       "      <td>NaN</td>\n",
       "      <td>NaN</td>\n",
       "      <td>NaN</td>\n",
       "      <td>NaN</td>\n",
       "    </tr>\n",
       "    <tr>\n",
       "      <th>10</th>\n",
       "      <td>CA-2014-100678</td>\n",
       "      <td>OFF-EN-10000056</td>\n",
       "      <td>3.0</td>\n",
       "      <td>CA-2014-100678OFF-EN-10000056</td>\n",
       "      <td>NaN</td>\n",
       "      <td>NaN</td>\n",
       "      <td>NaN</td>\n",
       "      <td>NaN</td>\n",
       "    </tr>\n",
       "    <tr>\n",
       "      <th>19</th>\n",
       "      <td>CA-2014-100895</td>\n",
       "      <td>OFF-AR-10004511</td>\n",
       "      <td>2.0</td>\n",
       "      <td>CA-2014-100895OFF-AR-10004511</td>\n",
       "      <td>NaN</td>\n",
       "      <td>NaN</td>\n",
       "      <td>NaN</td>\n",
       "      <td>NaN</td>\n",
       "    </tr>\n",
       "    <tr>\n",
       "      <th>35</th>\n",
       "      <td>CA-2014-101560</td>\n",
       "      <td>OFF-BI-10000309</td>\n",
       "      <td>3.0</td>\n",
       "      <td>CA-2014-101560OFF-BI-10000309</td>\n",
       "      <td>NaN</td>\n",
       "      <td>NaN</td>\n",
       "      <td>NaN</td>\n",
       "      <td>NaN</td>\n",
       "    </tr>\n",
       "    <tr>\n",
       "      <th>61</th>\n",
       "      <td>CA-2014-102673</td>\n",
       "      <td>OFF-LA-10001771</td>\n",
       "      <td>12.0</td>\n",
       "      <td>CA-2014-102673OFF-LA-10001771</td>\n",
       "      <td>NaN</td>\n",
       "      <td>NaN</td>\n",
       "      <td>NaN</td>\n",
       "      <td>NaN</td>\n",
       "    </tr>\n",
       "    <tr>\n",
       "      <th>...</th>\n",
       "      <td>...</td>\n",
       "      <td>...</td>\n",
       "      <td>...</td>\n",
       "      <td>...</td>\n",
       "      <td>...</td>\n",
       "      <td>...</td>\n",
       "      <td>...</td>\n",
       "      <td>...</td>\n",
       "    </tr>\n",
       "    <tr>\n",
       "      <th>9390</th>\n",
       "      <td>US-2017-160836</td>\n",
       "      <td>OFF-AP-10001626</td>\n",
       "      <td>2.0</td>\n",
       "      <td>US-2017-160836OFF-AP-10001626</td>\n",
       "      <td>NaN</td>\n",
       "      <td>NaN</td>\n",
       "      <td>NaN</td>\n",
       "      <td>NaN</td>\n",
       "    </tr>\n",
       "    <tr>\n",
       "      <th>9403</th>\n",
       "      <td>US-2017-162558</td>\n",
       "      <td>FUR-FU-10002364</td>\n",
       "      <td>2.0</td>\n",
       "      <td>US-2017-162558FUR-FU-10002364</td>\n",
       "      <td>NaN</td>\n",
       "      <td>NaN</td>\n",
       "      <td>NaN</td>\n",
       "      <td>NaN</td>\n",
       "    </tr>\n",
       "    <tr>\n",
       "      <th>9420</th>\n",
       "      <td>US-2017-163657</td>\n",
       "      <td>OFF-BI-10000138</td>\n",
       "      <td>5.0</td>\n",
       "      <td>US-2017-163657OFF-BI-10000138</td>\n",
       "      <td>NaN</td>\n",
       "      <td>NaN</td>\n",
       "      <td>NaN</td>\n",
       "      <td>NaN</td>\n",
       "    </tr>\n",
       "    <tr>\n",
       "      <th>9427</th>\n",
       "      <td>US-2017-164056</td>\n",
       "      <td>FUR-TA-10001307</td>\n",
       "      <td>5.0</td>\n",
       "      <td>US-2017-164056FUR-TA-10001307</td>\n",
       "      <td>NaN</td>\n",
       "      <td>NaN</td>\n",
       "      <td>NaN</td>\n",
       "      <td>NaN</td>\n",
       "    </tr>\n",
       "    <tr>\n",
       "      <th>9435</th>\n",
       "      <td>US-2017-165456</td>\n",
       "      <td>FUR-CH-10003981</td>\n",
       "      <td>6.0</td>\n",
       "      <td>US-2017-165456FUR-CH-10003981</td>\n",
       "      <td>NaN</td>\n",
       "      <td>NaN</td>\n",
       "      <td>NaN</td>\n",
       "      <td>NaN</td>\n",
       "    </tr>\n",
       "  </tbody>\n",
       "</table>\n",
       "<p>507 rows × 8 columns</p>\n",
       "</div>"
      ],
      "text/plain": [
       "          Order ID_x     Product ID_x  Qty_x                            PK1  \\\n",
       "0     CA-2014-100006  TEC-PH-10002075    3.0  CA-2014-100006TEC-PH-10002075   \n",
       "10    CA-2014-100678  OFF-EN-10000056    3.0  CA-2014-100678OFF-EN-10000056   \n",
       "19    CA-2014-100895  OFF-AR-10004511    2.0  CA-2014-100895OFF-AR-10004511   \n",
       "35    CA-2014-101560  OFF-BI-10000309    3.0  CA-2014-101560OFF-BI-10000309   \n",
       "61    CA-2014-102673  OFF-LA-10001771   12.0  CA-2014-102673OFF-LA-10001771   \n",
       "...              ...              ...    ...                            ...   \n",
       "9390  US-2017-160836  OFF-AP-10001626    2.0  US-2017-160836OFF-AP-10001626   \n",
       "9403  US-2017-162558  FUR-FU-10002364    2.0  US-2017-162558FUR-FU-10002364   \n",
       "9420  US-2017-163657  OFF-BI-10000138    5.0  US-2017-163657OFF-BI-10000138   \n",
       "9427  US-2017-164056  FUR-TA-10001307    5.0  US-2017-164056FUR-TA-10001307   \n",
       "9435  US-2017-165456  FUR-CH-10003981    6.0  US-2017-165456FUR-CH-10003981   \n",
       "\n",
       "     Order ID_y Product ID_y  Qty_y  PK2  \n",
       "0           NaN          NaN    NaN  NaN  \n",
       "10          NaN          NaN    NaN  NaN  \n",
       "19          NaN          NaN    NaN  NaN  \n",
       "35          NaN          NaN    NaN  NaN  \n",
       "61          NaN          NaN    NaN  NaN  \n",
       "...         ...          ...    ...  ...  \n",
       "9390        NaN          NaN    NaN  NaN  \n",
       "9403        NaN          NaN    NaN  NaN  \n",
       "9420        NaN          NaN    NaN  NaN  \n",
       "9427        NaN          NaN    NaN  NaN  \n",
       "9435        NaN          NaN    NaN  NaN  \n",
       "\n",
       "[507 rows x 8 columns]"
      ]
     },
     "execution_count": 11,
     "metadata": {},
     "output_type": "execute_result"
    }
   ],
   "source": [
    "# for finding the missing values we will check the columns where data2 is null\n",
    "task1 = df[df['PK2'].isnull()]\n",
    "task1"
   ]
  },
  {
   "cell_type": "code",
   "execution_count": 12,
   "id": "fc55a8b3",
   "metadata": {},
   "outputs": [
    {
     "data": {
      "text/plain": [
       "(507, 8)"
      ]
     },
     "execution_count": 12,
     "metadata": {},
     "output_type": "execute_result"
    }
   ],
   "source": [
    "task1.shape"
   ]
  },
  {
   "cell_type": "markdown",
   "id": "978046f8",
   "metadata": {},
   "source": [
    "# 507"
   ]
  },
  {
   "cell_type": "markdown",
   "id": "41fa20a2",
   "metadata": {},
   "source": [
    "# Question 2"
   ]
  },
  {
   "cell_type": "markdown",
   "id": "a9d189ec",
   "metadata": {},
   "source": [
    "## How to identify the Records (Order ID + Product ID combination) missing in data1 but present in data2"
   ]
  },
  {
   "cell_type": "code",
   "execution_count": 14,
   "id": "1040cdc3",
   "metadata": {},
   "outputs": [
    {
     "data": {
      "text/html": [
       "<div>\n",
       "<style scoped>\n",
       "    .dataframe tbody tr th:only-of-type {\n",
       "        vertical-align: middle;\n",
       "    }\n",
       "\n",
       "    .dataframe tbody tr th {\n",
       "        vertical-align: top;\n",
       "    }\n",
       "\n",
       "    .dataframe thead th {\n",
       "        text-align: right;\n",
       "    }\n",
       "</style>\n",
       "<table border=\"1\" class=\"dataframe\">\n",
       "  <thead>\n",
       "    <tr style=\"text-align: right;\">\n",
       "      <th></th>\n",
       "      <th>Order ID_x</th>\n",
       "      <th>Product ID_x</th>\n",
       "      <th>Qty_x</th>\n",
       "      <th>PK1</th>\n",
       "      <th>Order ID_y</th>\n",
       "      <th>Product ID_y</th>\n",
       "      <th>Qty_y</th>\n",
       "      <th>PK2</th>\n",
       "    </tr>\n",
       "  </thead>\n",
       "  <tbody>\n",
       "    <tr>\n",
       "      <th>9478</th>\n",
       "      <td>NaN</td>\n",
       "      <td>NaN</td>\n",
       "      <td>NaN</td>\n",
       "      <td>NaN</td>\n",
       "      <td>CA-2014-100706</td>\n",
       "      <td>TEC-AC-10001314</td>\n",
       "      <td>2.0</td>\n",
       "      <td>CA-2014-100706TEC-AC-10001314</td>\n",
       "    </tr>\n",
       "    <tr>\n",
       "      <th>9479</th>\n",
       "      <td>NaN</td>\n",
       "      <td>NaN</td>\n",
       "      <td>NaN</td>\n",
       "      <td>NaN</td>\n",
       "      <td>CA-2014-100762</td>\n",
       "      <td>OFF-PA-10001815</td>\n",
       "      <td>3.0</td>\n",
       "      <td>CA-2014-100762OFF-PA-10001815</td>\n",
       "    </tr>\n",
       "    <tr>\n",
       "      <th>9480</th>\n",
       "      <td>NaN</td>\n",
       "      <td>NaN</td>\n",
       "      <td>NaN</td>\n",
       "      <td>NaN</td>\n",
       "      <td>CA-2014-101427</td>\n",
       "      <td>OFF-AR-10002257</td>\n",
       "      <td>3.0</td>\n",
       "      <td>CA-2014-101427OFF-AR-10002257</td>\n",
       "    </tr>\n",
       "    <tr>\n",
       "      <th>9481</th>\n",
       "      <td>NaN</td>\n",
       "      <td>NaN</td>\n",
       "      <td>NaN</td>\n",
       "      <td>NaN</td>\n",
       "      <td>CA-2014-102652</td>\n",
       "      <td>FUR-FU-10001918</td>\n",
       "      <td>7.0</td>\n",
       "      <td>CA-2014-102652FUR-FU-10001918</td>\n",
       "    </tr>\n",
       "    <tr>\n",
       "      <th>9482</th>\n",
       "      <td>NaN</td>\n",
       "      <td>NaN</td>\n",
       "      <td>NaN</td>\n",
       "      <td>NaN</td>\n",
       "      <td>CA-2014-102869</td>\n",
       "      <td>OFF-PA-10000788</td>\n",
       "      <td>3.0</td>\n",
       "      <td>CA-2014-102869OFF-PA-10000788</td>\n",
       "    </tr>\n",
       "    <tr>\n",
       "      <th>...</th>\n",
       "      <td>...</td>\n",
       "      <td>...</td>\n",
       "      <td>...</td>\n",
       "      <td>...</td>\n",
       "      <td>...</td>\n",
       "      <td>...</td>\n",
       "      <td>...</td>\n",
       "      <td>...</td>\n",
       "    </tr>\n",
       "    <tr>\n",
       "      <th>9981</th>\n",
       "      <td>NaN</td>\n",
       "      <td>NaN</td>\n",
       "      <td>NaN</td>\n",
       "      <td>NaN</td>\n",
       "      <td>US-2017-165344</td>\n",
       "      <td>OFF-BI-10003196</td>\n",
       "      <td>10.0</td>\n",
       "      <td>US-2017-165344OFF-BI-10003196</td>\n",
       "    </tr>\n",
       "    <tr>\n",
       "      <th>9982</th>\n",
       "      <td>NaN</td>\n",
       "      <td>NaN</td>\n",
       "      <td>NaN</td>\n",
       "      <td>NaN</td>\n",
       "      <td>US-2017-165358</td>\n",
       "      <td>TEC-CO-10001943</td>\n",
       "      <td>5.0</td>\n",
       "      <td>US-2017-165358TEC-CO-10001943</td>\n",
       "    </tr>\n",
       "    <tr>\n",
       "      <th>9983</th>\n",
       "      <td>NaN</td>\n",
       "      <td>NaN</td>\n",
       "      <td>NaN</td>\n",
       "      <td>NaN</td>\n",
       "      <td>US-2017-167920</td>\n",
       "      <td>OFF-AP-10000159</td>\n",
       "      <td>5.0</td>\n",
       "      <td>US-2017-167920OFF-AP-10000159</td>\n",
       "    </tr>\n",
       "    <tr>\n",
       "      <th>9984</th>\n",
       "      <td>NaN</td>\n",
       "      <td>NaN</td>\n",
       "      <td>NaN</td>\n",
       "      <td>NaN</td>\n",
       "      <td>US-2017-169502</td>\n",
       "      <td>OFF-AP-10001947</td>\n",
       "      <td>5.0</td>\n",
       "      <td>US-2017-169502OFF-AP-10001947</td>\n",
       "    </tr>\n",
       "    <tr>\n",
       "      <th>9985</th>\n",
       "      <td>NaN</td>\n",
       "      <td>NaN</td>\n",
       "      <td>NaN</td>\n",
       "      <td>NaN</td>\n",
       "      <td>US-2017-169551</td>\n",
       "      <td>FUR-BO-10001519</td>\n",
       "      <td>3.0</td>\n",
       "      <td>US-2017-169551FUR-BO-10001519</td>\n",
       "    </tr>\n",
       "  </tbody>\n",
       "</table>\n",
       "<p>508 rows × 8 columns</p>\n",
       "</div>"
      ],
      "text/plain": [
       "     Order ID_x Product ID_x  Qty_x  PK1      Order ID_y     Product ID_y  \\\n",
       "9478        NaN          NaN    NaN  NaN  CA-2014-100706  TEC-AC-10001314   \n",
       "9479        NaN          NaN    NaN  NaN  CA-2014-100762  OFF-PA-10001815   \n",
       "9480        NaN          NaN    NaN  NaN  CA-2014-101427  OFF-AR-10002257   \n",
       "9481        NaN          NaN    NaN  NaN  CA-2014-102652  FUR-FU-10001918   \n",
       "9482        NaN          NaN    NaN  NaN  CA-2014-102869  OFF-PA-10000788   \n",
       "...         ...          ...    ...  ...             ...              ...   \n",
       "9981        NaN          NaN    NaN  NaN  US-2017-165344  OFF-BI-10003196   \n",
       "9982        NaN          NaN    NaN  NaN  US-2017-165358  TEC-CO-10001943   \n",
       "9983        NaN          NaN    NaN  NaN  US-2017-167920  OFF-AP-10000159   \n",
       "9984        NaN          NaN    NaN  NaN  US-2017-169502  OFF-AP-10001947   \n",
       "9985        NaN          NaN    NaN  NaN  US-2017-169551  FUR-BO-10001519   \n",
       "\n",
       "      Qty_y                            PK2  \n",
       "9478    2.0  CA-2014-100706TEC-AC-10001314  \n",
       "9479    3.0  CA-2014-100762OFF-PA-10001815  \n",
       "9480    3.0  CA-2014-101427OFF-AR-10002257  \n",
       "9481    7.0  CA-2014-102652FUR-FU-10001918  \n",
       "9482    3.0  CA-2014-102869OFF-PA-10000788  \n",
       "...     ...                            ...  \n",
       "9981   10.0  US-2017-165344OFF-BI-10003196  \n",
       "9982    5.0  US-2017-165358TEC-CO-10001943  \n",
       "9983    5.0  US-2017-167920OFF-AP-10000159  \n",
       "9984    5.0  US-2017-169502OFF-AP-10001947  \n",
       "9985    3.0  US-2017-169551FUR-BO-10001519  \n",
       "\n",
       "[508 rows x 8 columns]"
      ]
     },
     "execution_count": 14,
     "metadata": {},
     "output_type": "execute_result"
    }
   ],
   "source": [
    "# for finding the missing values we will check the columns where data1 is null\n",
    "task2 = df[df['PK1'].isnull()]\n",
    "task2"
   ]
  },
  {
   "cell_type": "code",
   "execution_count": 15,
   "id": "6ef4b0ea",
   "metadata": {},
   "outputs": [
    {
     "data": {
      "text/plain": [
       "(508, 8)"
      ]
     },
     "execution_count": 15,
     "metadata": {},
     "output_type": "execute_result"
    }
   ],
   "source": [
    "task2.shape"
   ]
  },
  {
   "cell_type": "markdown",
   "id": "ca3f3e7e",
   "metadata": {},
   "source": [
    "# 508"
   ]
  },
  {
   "cell_type": "markdown",
   "id": "406c4556",
   "metadata": {},
   "source": [
    "# Question 3\n"
   ]
  },
  {
   "cell_type": "markdown",
   "id": "6629e4e5",
   "metadata": {},
   "source": [
    "## Find the Sum of the total Qty of Records missing in data1 but present in data2"
   ]
  },
  {
   "cell_type": "code",
   "execution_count": 16,
   "id": "17e9de04",
   "metadata": {},
   "outputs": [
    {
     "data": {
      "text/plain": [
       "1956.0"
      ]
     },
     "execution_count": 16,
     "metadata": {},
     "output_type": "execute_result"
    }
   ],
   "source": [
    "task2['Qty_y'].sum()"
   ]
  },
  {
   "cell_type": "markdown",
   "id": "5a9a91fb",
   "metadata": {},
   "source": [
    "# 1956"
   ]
  },
  {
   "cell_type": "markdown",
   "id": "e1aab223",
   "metadata": {},
   "source": [
    "# Question 4"
   ]
  },
  {
   "cell_type": "markdown",
   "id": "9f327dfa",
   "metadata": {},
   "source": [
    "## Find the total number of unique records (Order ID + Product ID combination) present in the combined dataset of data1 and data2"
   ]
  },
  {
   "cell_type": "code",
   "execution_count": 17,
   "id": "07bc796f",
   "metadata": {},
   "outputs": [
    {
     "data": {
      "text/plain": [
       "9986"
      ]
     },
     "execution_count": 17,
     "metadata": {},
     "output_type": "execute_result"
    }
   ],
   "source": [
    "df.shape[0]"
   ]
  },
  {
   "cell_type": "markdown",
   "id": "2f1adb2b",
   "metadata": {},
   "source": [
    "# 9986"
   ]
  },
  {
   "cell_type": "code",
   "execution_count": null,
   "id": "21637f5c",
   "metadata": {},
   "outputs": [],
   "source": []
  }
 ],
 "metadata": {
  "kernelspec": {
   "display_name": "Python 3 (ipykernel)",
   "language": "python",
   "name": "python3"
  },
  "language_info": {
   "codemirror_mode": {
    "name": "ipython",
    "version": 3
   },
   "file_extension": ".py",
   "mimetype": "text/x-python",
   "name": "python",
   "nbconvert_exporter": "python",
   "pygments_lexer": "ipython3",
   "version": "3.9.13"
  }
 },
 "nbformat": 4,
 "nbformat_minor": 5
}
