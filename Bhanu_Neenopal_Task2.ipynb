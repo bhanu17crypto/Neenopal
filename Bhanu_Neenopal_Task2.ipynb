{
 "cells": [
  {
   "cell_type": "markdown",
   "id": "27afcfe9",
   "metadata": {},
   "source": [
    "# Neenopal Python Dummy Data Task\n",
    " ## bhanu"
   ]
  },
  {
   "cell_type": "code",
   "execution_count": 1,
   "id": "b6c893a1",
   "metadata": {},
   "outputs": [],
   "source": [
    "import pandas as pd\n",
    "import mysql.connector"
   ]
  },
  {
   "cell_type": "markdown",
   "id": "b23ddbed",
   "metadata": {},
   "source": [
    "# Question 1\n",
    "\n",
    "## Read the csv or excel file"
   ]
  },
  {
   "cell_type": "code",
   "execution_count": 3,
   "id": "383bd8ff",
   "metadata": {},
   "outputs": [],
   "source": [
    "df = pd.read_csv('dummy_data.csv') # reading the data using the pandas read_csv function"
   ]
  },
  {
   "cell_type": "code",
   "execution_count": 4,
   "id": "16b80334",
   "metadata": {},
   "outputs": [
    {
     "data": {
      "text/html": [
       "<div>\n",
       "<style scoped>\n",
       "    .dataframe tbody tr th:only-of-type {\n",
       "        vertical-align: middle;\n",
       "    }\n",
       "\n",
       "    .dataframe tbody tr th {\n",
       "        vertical-align: top;\n",
       "    }\n",
       "\n",
       "    .dataframe thead th {\n",
       "        text-align: right;\n",
       "    }\n",
       "</style>\n",
       "<table border=\"1\" class=\"dataframe\">\n",
       "  <thead>\n",
       "    <tr style=\"text-align: right;\">\n",
       "      <th></th>\n",
       "      <th>bike_name</th>\n",
       "      <th>price</th>\n",
       "      <th>city</th>\n",
       "      <th>kms_driven</th>\n",
       "      <th>owner</th>\n",
       "      <th>age</th>\n",
       "      <th>power</th>\n",
       "      <th>brand</th>\n",
       "    </tr>\n",
       "  </thead>\n",
       "  <tbody>\n",
       "    <tr>\n",
       "      <th>0</th>\n",
       "      <td>TVS Star City Plus Dual Tone 110cc</td>\n",
       "      <td>35000.0</td>\n",
       "      <td>Ahmedabad</td>\n",
       "      <td>17654.0</td>\n",
       "      <td>First Owner</td>\n",
       "      <td>3.0</td>\n",
       "      <td>110.0</td>\n",
       "      <td>TVS</td>\n",
       "    </tr>\n",
       "    <tr>\n",
       "      <th>1</th>\n",
       "      <td>Royal Enfield Classic 350cc</td>\n",
       "      <td>119900.0</td>\n",
       "      <td>Delhi</td>\n",
       "      <td>11000.0</td>\n",
       "      <td>First Owner</td>\n",
       "      <td>4.0</td>\n",
       "      <td>350.0</td>\n",
       "      <td>Royal Enfield</td>\n",
       "    </tr>\n",
       "    <tr>\n",
       "      <th>2</th>\n",
       "      <td>Triumph Daytona 675R</td>\n",
       "      <td>600000.0</td>\n",
       "      <td>Delhi</td>\n",
       "      <td>110.0</td>\n",
       "      <td>First Owner</td>\n",
       "      <td>8.0</td>\n",
       "      <td>675.0</td>\n",
       "      <td>Triumph</td>\n",
       "    </tr>\n",
       "    <tr>\n",
       "      <th>3</th>\n",
       "      <td>TVS Apache RTR 180cc</td>\n",
       "      <td>65000.0</td>\n",
       "      <td>Bangalore</td>\n",
       "      <td>16329.0</td>\n",
       "      <td>First Owner</td>\n",
       "      <td>4.0</td>\n",
       "      <td>180.0</td>\n",
       "      <td>TVS</td>\n",
       "    </tr>\n",
       "    <tr>\n",
       "      <th>4</th>\n",
       "      <td>Yamaha FZ S V 2.0 150cc-Ltd. Edition</td>\n",
       "      <td>80000.0</td>\n",
       "      <td>Bangalore</td>\n",
       "      <td>10000.0</td>\n",
       "      <td>First Owner</td>\n",
       "      <td>3.0</td>\n",
       "      <td>150.0</td>\n",
       "      <td>Yamaha</td>\n",
       "    </tr>\n",
       "  </tbody>\n",
       "</table>\n",
       "</div>"
      ],
      "text/plain": [
       "                              bike_name     price       city  kms_driven  \\\n",
       "0    TVS Star City Plus Dual Tone 110cc   35000.0  Ahmedabad     17654.0   \n",
       "1           Royal Enfield Classic 350cc  119900.0      Delhi     11000.0   \n",
       "2                  Triumph Daytona 675R  600000.0      Delhi       110.0   \n",
       "3                  TVS Apache RTR 180cc   65000.0  Bangalore     16329.0   \n",
       "4  Yamaha FZ S V 2.0 150cc-Ltd. Edition   80000.0  Bangalore     10000.0   \n",
       "\n",
       "         owner  age  power          brand  \n",
       "0  First Owner  3.0  110.0            TVS  \n",
       "1  First Owner  4.0  350.0  Royal Enfield  \n",
       "2  First Owner  8.0  675.0        Triumph  \n",
       "3  First Owner  4.0  180.0            TVS  \n",
       "4  First Owner  3.0  150.0         Yamaha  "
      ]
     },
     "execution_count": 4,
     "metadata": {},
     "output_type": "execute_result"
    }
   ],
   "source": [
    "df.head()"
   ]
  },
  {
   "cell_type": "markdown",
   "id": "8ebd646a",
   "metadata": {},
   "source": [
    "# The dataset consists of information about different bikes, including their name, price, city, kilometers driven, owner type, age, power, and brand."
   ]
  },
  {
   "cell_type": "markdown",
   "id": "fc8ed20e",
   "metadata": {},
   "source": [
    "# Question 2\n",
    "\n",
    "\n",
    "# Change the datatypes of the column and check the memory usage before and after the change in the data types."
   ]
  },
  {
   "cell_type": "code",
   "execution_count": 5,
   "id": "fbf0e5ab",
   "metadata": {},
   "outputs": [
    {
     "data": {
      "text/plain": [
       "Index          128\n",
       "bike_name     1192\n",
       "price         1192\n",
       "city          1192\n",
       "kms_driven    1192\n",
       "owner         1192\n",
       "age           1192\n",
       "power         1192\n",
       "brand         1192\n",
       "dtype: int64"
      ]
     },
     "execution_count": 5,
     "metadata": {},
     "output_type": "execute_result"
    }
   ],
   "source": [
    "df.memory_usage()"
   ]
  },
  {
   "cell_type": "code",
   "execution_count": 6,
   "id": "b1fcf351",
   "metadata": {},
   "outputs": [],
   "source": [
    "# Changing the data types of the float columns to int32\n",
    "float_columns = ['price', 'kms_driven', 'age', 'power']\n",
    "for column in float_columns:\n",
    "    df[column] = df[column].astype('int32')"
   ]
  },
  {
   "cell_type": "code",
   "execution_count": 7,
   "id": "2507cbef",
   "metadata": {},
   "outputs": [
    {
     "data": {
      "text/plain": [
       "Index          128\n",
       "bike_name     1192\n",
       "price          596\n",
       "city          1192\n",
       "kms_driven     596\n",
       "owner         1192\n",
       "age            596\n",
       "power          596\n",
       "brand         1192\n",
       "dtype: int64"
      ]
     },
     "execution_count": 7,
     "metadata": {},
     "output_type": "execute_result"
    }
   ],
   "source": [
    "df.memory_usage()"
   ]
  },
  {
   "cell_type": "code",
   "execution_count": 8,
   "id": "0278cd09",
   "metadata": {},
   "outputs": [
    {
     "data": {
      "text/plain": [
       "7280"
      ]
     },
     "execution_count": 8,
     "metadata": {},
     "output_type": "execute_result"
    }
   ],
   "source": [
    "# Checking the memory usage before the data type changes\n",
    "after_memory_usage = df.memory_usage().sum()\n",
    "after_memory_usage"
   ]
  },
  {
   "cell_type": "markdown",
   "id": "f94cefd4",
   "metadata": {},
   "source": [
    "# Question 3\n",
    "\n",
    "# Dump the data into the mysql database."
   ]
  },
  {
   "cell_type": "code",
   "execution_count": 9,
   "id": "8251e45d",
   "metadata": {},
   "outputs": [
    {
     "name": "stdout",
     "output_type": "stream",
     "text": [
      "                              bike_name   price       city  kms_driven  \\\n",
      "0    TVS Star City Plus Dual Tone 110cc   35000  Ahmedabad       17654   \n",
      "1           Royal Enfield Classic 350cc  119900      Delhi       11000   \n",
      "2                  Triumph Daytona 675R  600000      Delhi         110   \n",
      "3                  TVS Apache RTR 180cc   65000  Bangalore       16329   \n",
      "4  Yamaha FZ S V 2.0 150cc-Ltd. Edition   80000  Bangalore       10000   \n",
      "\n",
      "         owner  age  power          brand  \n",
      "0  First Owner    3    110            TVS  \n",
      "1  First Owner    4    350  Royal Enfield  \n",
      "2  First Owner    8    675        Triumph  \n",
      "3  First Owner    4    180            TVS  \n",
      "4  First Owner    3    150         Yamaha  \n"
     ]
    }
   ],
   "source": [
    "#Removing indexing from the table\n",
    "df.reset_index(drop=True, inplace=True)\n",
    "print(df.head())\n"
   ]
  },
  {
   "cell_type": "code",
   "execution_count": 14,
   "id": "f65cd926",
   "metadata": {},
   "outputs": [],
   "source": [
    "db_host = \"localhost\"\n",
    "db_user = \"root\"\n",
    "db_password = \"bhanu\"\n",
    "db_name = \"bhanudb\"\n",
    "table_name = \"bike_info\" \n",
    "\n",
    "# Connecting to the MySQL database\n",
    "connection = mysql.connector.connect(host=db_host, user=db_user, password=db_password, database=db_name)\n",
    "cursor = connection.cursor()"
   ]
  },
  {
   "cell_type": "markdown",
   "id": "fae6494a",
   "metadata": {},
   "source": [
    "# Deleting existing indexing from the table"
   ]
  },
  {
   "cell_type": "code",
   "execution_count": 32,
   "id": "9ae3c93a",
   "metadata": {},
   "outputs": [],
   "source": [
    " try:\n",
    "    drop_index_query = f\"DROP INDEX idx_{table_name}_id ON {table_name};\"\n",
    "    cursor.execute(drop_index_query)\n",
    "except mysql.connector.Error as e:\n",
    "    pass"
   ]
  },
  {
   "cell_type": "markdown",
   "id": "4b4797cc",
   "metadata": {},
   "source": [
    "# Insert data into the table"
   ]
  },
  {
   "cell_type": "code",
   "execution_count": 33,
   "id": "e26a139d",
   "metadata": {},
   "outputs": [],
   "source": [
    "# Insert data into the table\n",
    "for index, row in df.iterrows():\n",
    "    values = tuple(row)\n",
    "    insert_query = f\"INSERT INTO {table_name} (bike_name, price, city, kms_driven, owner, age, power, brand) VALUES (%s, %s, %s, %s, %s, %s, %s, %s);\"\n",
    "    cursor.execute(insert_query, values)"
   ]
  },
  {
   "cell_type": "code",
   "execution_count": 34,
   "id": "966bf614",
   "metadata": {},
   "outputs": [],
   "source": [
    "# Commit the changes to the database\n",
    "connection.commit()"
   ]
  },
  {
   "cell_type": "markdown",
   "id": "625e36d0",
   "metadata": {},
   "source": [
    "# Question 4\n",
    "\n",
    "## index the column after the data is inserted"
   ]
  },
  {
   "cell_type": "code",
   "execution_count": 35,
   "id": "2535c43a",
   "metadata": {},
   "outputs": [],
   "source": [
    "# Index the column\n",
    "index_query = f\"CREATE INDEX idx_{table_name}_id ON {table_name}(id);\"\n",
    "cursor = connection.cursor()\n",
    "cursor.execute(index_query)"
   ]
  },
  {
   "cell_type": "code",
   "execution_count": 25,
   "id": "fa0f824d",
   "metadata": {},
   "outputs": [],
   "source": [
    "connection.commit()"
   ]
  },
  {
   "cell_type": "code",
   "execution_count": 31,
   "id": "d2671539",
   "metadata": {},
   "outputs": [
    {
     "name": "stdout",
     "output_type": "stream",
     "text": [
      "('TVS Star City Plus Dual Tone 110cc', 35000.0, 'Ahmedabad', 17654.0, 'First Owner', 3.0, 110.0, 'TVS', 1)\n",
      "('Royal Enfield Classic 350cc', 119900.0, 'Delhi', 11000.0, 'First Owner', 4.0, 350.0, 'Royal Enfield', 2)\n",
      "('Triumph Daytona 675R', 600000.0, 'Delhi', 110.0, 'First Owner', 8.0, 675.0, 'Triumph', 3)\n",
      "('TVS Apache RTR 180cc', 65000.0, 'Bangalore', 16329.0, 'First Owner', 4.0, 180.0, 'TVS', 4)\n",
      "('Yamaha FZ S V 2.0 150cc-Ltd. Edition', 80000.0, 'Bangalore', 10000.0, 'First Owner', 3.0, 150.0, 'Yamaha', 5)\n",
      "('Yamaha FZs 150cc', 53499.0, 'Delhi', 25000.0, 'First Owner', 6.0, 150.0, 'Yamaha', 6)\n",
      "('Honda CB Hornet 160R  ABS DLX', 85000.0, 'Delhi', 8200.0, 'First Owner', 3.0, 160.0, 'Honda', 7)\n",
      "('Hero Splendor Plus Self Alloy 100cc', 45000.0, 'Delhi', 12645.0, 'First Owner', 3.0, 100.0, 'Hero', 8)\n",
      "('Royal Enfield Thunderbird X 350cc', 145000.0, 'Bangalore', 9190.0, 'First Owner', 3.0, 350.0, 'Royal Enfield', 9)\n",
      "('Royal Enfield Classic Desert Storm 500cc', 88000.0, 'Delhi', 19000.0, 'Second Owner', 7.0, 500.0, 'Royal Enfield', 10)\n",
      "('Yamaha YZF-R15 2.0 150cc', 72000.0, 'Bangalore', 20000.0, 'First Owner', 7.0, 150.0, 'Yamaha', 11)\n",
      "('Yamaha FZ25 250cc', 95000.0, 'Bangalore', 9665.0, 'First Owner', 4.0, 250.0, 'Yamaha', 12)\n",
      "('Bajaj Pulsar NS200', 78000.0, 'Bangalore', 9900.0, 'First Owner', 4.0, 200.0, 'Bajaj', 13)\n",
      "('Bajaj Discover 100M', 29499.0, 'Delhi', 20000.0, 'First Owner', 8.0, 100.0, 'Bajaj', 14)\n",
      "('Bajaj Discover 125M', 29900.0, 'Delhi', 20000.0, 'First Owner', 7.0, 125.0, 'Bajaj', 15)\n",
      "('Bajaj Pulsar NS200 ABS', 90000.0, 'Bangalore', 11574.0, 'First Owner', 3.0, 200.0, 'Bajaj', 16)\n",
      "('Bajaj Pulsar RS200 ABS', 120000.0, 'Bangalore', 23000.0, 'First Owner', 3.0, 200.0, 'Bajaj', 17)\n",
      "('Suzuki Gixxer SF 150cc', 48000.0, 'Mumbai', 24725.0, 'First Owner', 5.0, 150.0, 'Suzuki', 18)\n",
      "('Benelli 302R 300CC', 240000.0, 'Mumbai', 15025.0, 'Second Owner', 3.0, 302.0, 'Benelli', 19)\n",
      "('Bajaj Discover 125M', 29900.0, 'Delhi', 20000.0, 'First Owner', 7.0, 125.0, 'Bajaj', 20)\n",
      "('Bajaj Pulsar RS200 ABS', 120000.0, 'Bangalore', 23000.0, 'First Owner', 3.0, 200.0, 'Bajaj', 21)\n",
      "('Suzuki Gixxer SF 150cc', 48000.0, 'Mumbai', 24725.0, 'First Owner', 5.0, 150.0, 'Suzuki', 22)\n",
      "('Hero Splendor iSmart Plus IBS 110cc', 46500.0, 'Delhi', 3500.0, 'First Owner', 2.0, 110.0, 'Hero', 23)\n",
      "('Royal Enfield Classic Chrome 500cc', 121700.0, 'Kalyan', 24520.0, 'First Owner', 5.0, 500.0, 'Royal Enfield', 24)\n",
      "('Yamaha FZ V 2.0 150cc', 45000.0, 'Delhi', 23000.0, 'First Owner', 6.0, 150.0, 'Yamaha', 25)\n",
      "('Bajaj Pulsar NS200', 78000.0, 'Bangalore', 9900.0, 'First Owner', 4.0, 200.0, 'Bajaj', 26)\n",
      "('Hero Super Splendor 125cc', 20000.0, 'Ahmedabad', 29305.0, 'First Owner', 16.0, 125.0, 'Hero', 27)\n",
      "('Honda CBF Stunner 125cc', 20800.0, 'Faridabad', 30500.0, 'Second Owner', 7.0, 125.0, 'Honda', 28)\n",
      "('Bajaj Pulsar 150cc', 50000.0, 'Bangalore', 19000.0, 'First Owner', 8.0, 150.0, 'Bajaj', 29)\n",
      "('Honda X-Blade 160CC ABS', 81200.0, 'Mettur', 9100.0, 'First Owner', 2.0, 160.0, 'Honda', 30)\n",
      "('Bajaj Pulsar NS200', 88000.0, 'Hyderabad', 21914.0, 'First Owner', 3.0, 200.0, 'Bajaj', 31)\n",
      "('Yamaha YZF-R15 2.0 150cc', 80000.0, 'Kaithal', 20000.0, 'Second Owner', 4.0, 150.0, 'Yamaha', 32)\n",
      "('Bajaj Avenger 220cc', 40900.0, 'Gurgaon', 15000.0, 'First Owner', 6.0, 220.0, 'Bajaj', 33)\n",
      "('KTM RC 390cc', 180000.0, 'Pune', 17700.0, 'First Owner', 4.0, 390.0, 'KTM', 34)\n",
      "('Honda CB Unicorn 150cc', 40000.0, 'Noida', 30000.0, 'First Owner', 8.0, 150.0, 'Honda', 35)\n",
      "('KTM Duke 200cc', 70000.0, 'Nashik', 100000.0, 'Second Owner', 8.0, 200.0, 'KTM', 36)\n",
      "('Royal Enfield Classic 350cc', 98800.0, 'Kochi', 39000.0, 'First Owner', 5.0, 350.0, 'Royal Enfield', 37)\n",
      "('Honda CBR 150R 150cc', 65000.0, 'Allahabad', 43000.0, 'First Owner', 6.0, 150.0, 'Honda', 38)\n",
      "('Royal Enfield Thunderbird X 500cc', 190500.0, 'Samastipur', 4550.0, 'First Owner', 2.0, 500.0, 'Royal Enfield', 39)\n",
      "('KTM RC 200cc ABS', 179000.0, 'Bangalore', 3400.0, 'First Owner', 2.0, 200.0, 'KTM', 40)\n",
      "('Royal Enfield Thunderbird 350cc', 70000.0, 'Nadiad', 45000.0, 'First Owner', 8.0, 350.0, 'Royal Enfield', 41)\n",
      "('Bajaj Avenger 220cc', 45000.0, 'Hyderabad', 36100.0, 'First Owner', 6.0, 220.0, 'Bajaj', 42)\n",
      "('Royal Enfield Bullet Electra 350cc', 78000.0, 'Lucknow', 8500.0, 'First Owner', 13.0, 350.0, 'Royal Enfield', 43)\n",
      "('Bajaj Avenger Street 220 ABS', 110000.0, 'Bangalore', 2550.0, 'First Owner', 2.0, 220.0, 'Bajaj', 44)\n",
      "('Royal Enfield Classic 350cc', 85000.0, 'Delhi', 18000.0, 'First Owner', 6.0, 350.0, 'Royal Enfield', 45)\n",
      "('Bajaj Pulsar NS200', 38000.0, 'Delhi', 35000.0, 'First Owner', 9.0, 200.0, 'Bajaj', 46)\n",
      "('Royal Enfield Thunderbird 350cc', 55346.0, 'Noida', 38000.0, 'First Owner', 10.0, 350.0, 'Royal Enfield', 47)\n",
      "('Mahindra Centuro NXT 110cc', 28000.0, 'Jaipur', 45000.0, 'First Owner', 2.0, 110.0, 'Mahindra', 48)\n",
      "('Hero Hunk 150cc', 37000.0, 'Mumbai', 10800.0, 'First Owner', 8.0, 150.0, 'Hero', 49)\n",
      "('Suzuki Gixxer SF Fi 150cc SP ABS', 97000.0, 'Delhi', 4400.0, 'First Owner', 3.0, 150.0, 'Suzuki', 50)\n",
      "('Yamaha FZ 150cc', 40000.0, 'Karnal', 357000.0, 'First Owner', 8.0, 150.0, 'Yamaha', 51)\n",
      "('Royal Enfield\\u200e Bullet 350cc', 90000.0, 'Delhi', 15300.0, 'First Owner', 7.0, 350.0, 'Royal Enfield', 52)\n",
      "('TVS Apache RTR 160cc', 60000.0, 'Mumbai', 30000.0, 'First Owner', 5.0, 160.0, 'TVS', 53)\n",
      "('Honda CB Shine 125cc', 21900.0, 'Gorakhpur', 30000.0, 'Second Owner', 7.0, 125.0, 'Honda', 54)\n",
      "('Bajaj Avenger 220cc', 40000.0, 'Ahmedabad', 64000.0, 'First Owner', 7.0, 220.0, 'Bajaj', 55)\n",
      "('Benelli TNT 600i ABS', 475000.0, 'Mumbai', 11500.0, 'Second Owner', 3.0, 600.0, 'Benelli', 56)\n",
      "('Honda Dream Yuga 110cc', 34500.0, 'Ahmedabad', 17056.0, 'First Owner', 5.0, 110.0, 'Honda', 57)\n",
      "('Yamaha SZ 150cc', 25000.0, 'Vidisha', 172082.0, 'First Owner', 9.0, 150.0, 'Yamaha', 58)\n",
      "('Suzuki Gixxer 150cc', 30200.0, 'Bangalore', 45000.0, 'First Owner', 7.0, 150.0, 'Suzuki', 59)\n",
      "('Bajaj Avenger Cruise 220', 65000.0, 'Hosur', 35000.0, 'First Owner', 5.0, 220.0, 'Bajaj', 60)\n",
      "('Bajaj Pulsar 150cc', 25000.0, 'Mumbai', 38000.0, 'First Owner', 9.0, 150.0, 'Bajaj', 61)\n",
      "('Kawasaki Z900', 935000.0, 'Bagalkot', 2500.0, 'First Owner', 2.0, 900.0, 'Kawasaki', 62)\n",
      "('Royal Enfield Bullet Electra 350cc', 107100.0, 'Delhi', 15438.0, 'Second Owner', 3.0, 350.0, 'Royal Enfield', 63)\n",
      "('Bajaj Pulsar 220cc', 80000.0, 'Delhi', 6000.0, 'First Owner', 3.0, 220.0, 'Bajaj', 64)\n",
      "('Royal Enfield Thunderbird 350cc', 88000.0, 'Delhi', 19000.0, 'First Owner', 5.0, 350.0, 'Royal Enfield', 65)\n",
      "('KTM Duke 200cc', 94700.0, 'Baripara', 32700.0, 'First Owner', 4.0, 200.0, 'KTM', 66)\n",
      "('Hero CD Deluxe 100cc', 12200.0, 'Agra', 46643.0, 'First Owner', 14.0, 100.0, 'Hero', 67)\n",
      "('Royal Enfield Classic 350cc', 106000.0, 'Delhi', 19000.0, 'First Owner', 6.0, 350.0, 'Royal Enfield', 68)\n",
      "('Bajaj Pulsar 220cc', 29500.0, 'Hyderabad', 40700.0, 'First Owner', 12.0, 220.0, 'Bajaj', 69)\n",
      "('Kawasaki Ninja 650cc', 290000.0, 'Dharwad', 11350.0, 'First Owner', 7.0, 650.0, 'Kawasaki', 70)\n",
      "('Royal Enfield Thunderbird 350cc', 110000.0, 'Delhi', 1600.0, 'First Owner', 6.0, 350.0, 'Royal Enfield', 71)\n",
      "('Bajaj Platina 125cc', 27000.0, 'Vadodara', 44410.0, 'First Owner', 10.0, 125.0, 'Bajaj', 72)\n",
      "('Royal Enfield Thunderbird 350cc', 65000.0, 'Jalandhar', 9800.0, 'First Owner', 11.0, 350.0, 'Royal Enfield', 73)\n",
      "('Royal Enfield Thunderbird X 350cc', 150000.0, 'Bangalore', 15000.0, 'First Owner', 3.0, 350.0, 'Royal Enfield', 74)\n",
      "('Hero Karizma ZMR 223cc', 55786.0, 'Surat', 68000.0, 'Second Owner', 7.0, 223.0, 'Hero', 75)\n",
      "('Bajaj Pulsar 180cc', 45000.0, 'Bangalore', 17757.0, 'First Owner', 8.0, 180.0, 'Bajaj', 76)\n",
      "('Yamaha FZ25 ABS 250cc', 146000.0, 'Chennai', 3900.0, 'First Owner', 2.0, 250.0, 'Yamaha', 77)\n",
      "('Royal Enfield Thunderbird 350cc', 115000.0, 'Bangalore', 23700.0, 'First Owner', 4.0, 350.0, 'Royal Enfield', 78)\n",
      "('Bajaj CT 100 100cc', 30000.0, 'Noida', 8250.0, 'First Owner', 3.0, 100.0, 'Bajaj', 79)\n",
      "('Bajaj Pulsar RS200 ABS', 93100.0, 'Mumbai', 10000.0, 'First Owner', 5.0, 200.0, 'Bajaj', 80)\n",
      "('Yamaha YZF-R15 2.0 150cc', 82000.0, 'Mumbai', 4300.0, 'Second Owner', 3.0, 150.0, 'Yamaha', 81)\n",
      "('Royal Enfield Interceptor 650cc', 260000.0, 'Navi Mumbai', 3800.0, 'First Owner', 2.0, 650.0, 'Royal Enfield', 82)\n",
      "('Honda CB Shine 125cc', 38000.0, 'Bangalore', 33000.0, 'First Owner', 7.0, 125.0, 'Honda', 83)\n",
      "('KTM Duke 250cc', 130000.0, 'Gandhidham', 17500.0, 'Second Owner', 4.0, 250.0, 'KTM', 84)\n",
      "('Royal Enfield Himalayan 410cc', 118000.0, 'Gurgaon', 19000.0, 'First Owner', 4.0, 410.0, 'Royal Enfield', 85)\n",
      "('Bajaj Pulsar 135LS', 14700.0, 'Delhi', 10000.0, 'First Owner', 11.0, 135.0, 'Bajaj', 86)\n",
      "('Royal Enfield Thunderbird 350cc', 85000.0, 'Chennai', 54000.0, 'First Owner', 6.0, 350.0, 'Royal Enfield', 87)\n",
      "('Bajaj Pulsar 220F', 40000.0, 'Mumbai', 27000.0, 'First Owner', 7.0, 220.0, 'Bajaj', 88)\n",
      "('Yamaha FZ16 150cc', 50000.0, 'Bangalore', 19000.0, 'First Owner', 6.0, 150.0, 'Yamaha', 89)\n",
      "('Royal Enfield Thunderbird 350cc', 71800.0, 'Mumbai', 43500.0, 'First Owner', 7.0, 350.0, 'Royal Enfield', 90)\n",
      "('Royal Enfield Thunderbird 350cc', 71800.0, 'Mumbai', 43500.0, 'First Owner', 7.0, 350.0, 'Royal Enfield', 91)\n",
      "('Bajaj Pulsar NS200', 75000.0, 'Bangalore', 11575.0, 'First Owner', 4.0, 200.0, 'Bajaj', 92)\n",
      "('Ducati Scrambler 1100 Special', 1350000.0, 'Mumbai', 190.0, 'First Owner', 1.0, 1100.0, 'Ducati', 93)\n",
      "('Triumph Street Triple 765', 790000.0, 'Mumbai', 19000.0, 'First Owner', 3.0, 765.0, 'Triumph', 94)\n",
      "('Bajaj V15 150cc', 47000.0, 'Bangalore', 8600.0, 'First Owner', 4.0, 150.0, 'Bajaj', 95)\n",
      "('Bajaj Pulsar 150cc', 60000.0, 'Pune', 2000.0, 'First Owner', 2.0, 150.0, 'Bajaj', 96)\n",
      "('Suzuki Gixxer Fi 150cc ABS', 96700.0, 'Vadodara', 5100.0, 'First Owner', 1.0, 150.0, 'Suzuki', 97)\n",
      "('Hero Splendor plus 100cc', 31900.0, 'Delhi', 9000.0, 'First Owner', 5.0, 100.0, 'Hero', 98)\n",
      "('Bajaj Pulsar 150cc', 35000.0, 'Visakhapatnam', 44480.0, 'First Owner', 13.0, 150.0, 'Bajaj', 99)\n",
      "('KTM Duke 390cc', 240000.0, 'Bangalore', 11000.0, 'First Owner', 3.0, 390.0, 'KTM', 100)\n",
      "('Honda CBR 250R', 68000.0, 'Delhi', 16000.0, 'First Owner', 7.0, 250.0, 'Honda', 101)\n",
      "('Bajaj Pulsar RS200', 80000.0, 'Bangalore', 26691.0, 'First Owner', 5.0, 200.0, 'Bajaj', 102)\n",
      "('Royal Enfield Classic 350cc', 135000.0, 'Bangalore', 45000.0, 'First Owner', 5.0, 350.0, 'Royal Enfield', 103)\n",
      "('Bajaj Pulsar 150cc', 11100.0, 'Pune', 12000.0, 'Third Owner', 12.0, 150.0, 'Bajaj', 104)\n",
      "('Benelli TNT 600i', 480000.0, 'Mumbai', 14200.0, 'First Owner', 4.0, 600.0, 'Benelli', 105)\n",
      "('Suzuki Gixxer 150cc SP Rear Disc', 65000.0, 'Thrissur', 41000.0, 'First Owner', 3.0, 150.0, 'Suzuki', 106)\n",
      "('Yamaha FZ S V 2.0 150cc', 60000.0, 'Bangalore', 15000.0, 'First Owner', 5.0, 150.0, 'Yamaha', 107)\n",
      "('Honda CBR 150R 150cc', 80000.0, 'Bangalore', 12314.0, 'First Owner', 4.0, 150.0, 'Honda', 108)\n",
      "('Hero Splendor Plus Self Alloy 100cc', 46000.0, 'Delhi', 11760.0, 'First Owner', 3.0, 100.0, 'Hero', 109)\n",
      "('Royal Enfield Classic 500cc', 95000.0, 'Bangalore', 22000.0, 'First Owner', 11.0, 500.0, 'Royal Enfield', 110)\n",
      "('Hyosung GT650R', 400000.0, 'Delhi', 1800.0, 'First Owner', 4.0, 650.0, 'Hyosung', 111)\n",
      "('Bajaj V15 150cc', 55000.0, 'Bangalore', 4400.0, 'First Owner', 4.0, 150.0, 'Bajaj', 112)\n",
      "('Yamaha YZF-R15 S 150cc', 63000.0, 'Delhi', 16000.0, 'First Owner', 5.0, 150.0, 'Yamaha', 113)\n",
      "('Bajaj V15 150cc', 51000.0, 'Faridabad', 9000.0, 'First Owner', 4.0, 150.0, 'Bajaj', 114)\n",
      "('TVS Apache RTR 160 4V Disc', 69900.0, 'Delhi', 8700.0, 'First Owner', 3.0, 160.0, 'TVS', 115)\n",
      "('Bajaj Pulsar RS200 ABS', 125000.0, 'Gorakhpur', 1342.0, 'First Owner', 4.0, 200.0, 'Bajaj', 116)\n",
      "('Benelli TNT 300', 210000.0, 'Kolkata', 21000.0, 'First Owner', 6.0, 300.0, 'Benelli', 117)\n",
      "('Honda CB ShineSP 125cc', 35900.0, 'Delhi', 19000.0, 'First Owner', 5.0, 125.0, 'Honda', 118)\n",
      "('Honda CBR 250R', 67000.0, 'Delhi', 13000.0, 'First Owner', 9.0, 250.0, 'Honda', 119)\n",
      "('Hero Passion Pro 100cc', 29339.0, 'Ernakulam', 12771.0, 'First Owner', 4.0, 100.0, 'Hero', 120)\n",
      "('Hero Splendor Plus 100cc', 19695.0, 'Ernakulam', 51576.0, 'First Owner', 6.0, 100.0, 'Hero', 121)\n",
      "('Hero Splendor iSmart Plus IBS 110cc', 48672.0, 'Ernakulam', 608.0, 'First Owner', 2.0, 110.0, 'Hero', 122)\n",
      "('Honda CBR 150R 150cc', 40000.0, 'Mumbai', 13680.0, 'First Owner', 9.0, 150.0, 'Honda', 123)\n",
      "('Yamaha YZF R6 600cc', 500000.0, 'Bangalore', 285.0, 'First Owner', 5.0, 600.0, 'Yamaha', 124)\n",
      "('Ducati 1299 Superleggera', 800000.0, 'Mumbai', 3.0, 'First Owner', 3.0, 1299.0, 'Ducati', 125)\n",
      "('Royal Enfield Himalayan 410cc', 110000.0, 'Bangalore', 24676.0, 'First Owner', 5.0, 410.0, 'Royal Enfield', 126)\n",
      "('Royal Enfield Classic 350cc', 92500.0, 'Delhi', 11000.0, 'First Owner', 6.0, 350.0, 'Royal Enfield', 127)\n",
      "('Bajaj Pulsar NS200', 57000.0, 'Bangalore', 28948.0, 'First Owner', 5.0, 200.0, 'Bajaj', 128)\n",
      "('Royal Enfield Electra 350cc', 72500.0, 'Delhi', 10000.0, 'First Owner', 10.0, 350.0, 'Royal Enfield', 129)\n",
      "('KTM Duke 200cc', 68000.0, 'Delhi', 16000.0, 'First Owner', 9.0, 200.0, 'KTM', 130)\n",
      "('TVS Phoenix Disc 125cc', 21500.0, 'Barasat', 10500.0, 'First Owner', 5.0, 125.0, 'TVS', 131)\n",
      "('TVS Apache RTR 160cc', 40000.0, 'Delhi', 20000.0, 'First Owner', 6.0, 160.0, 'TVS', 132)\n",
      "('Royal Enfield Classic 350cc', 91000.0, 'Delhi', 18000.0, 'First Owner', 5.0, 350.0, 'Royal Enfield', 133)\n",
      "('Harley-Davidson Street 750', 300000.0, 'Ghaziabad', 3500.0, 'First Owner', 6.0, 750.0, 'Harley-Davidson', 134)\n",
      "('Suzuki Gixxer SF 150cc', 47000.0, 'Jaipur', 70000.0, 'First Owner', 6.0, 150.0, 'Suzuki', 135)\n",
      "('Suzuki Gixxer 150cc', 53000.0, 'Bangalore', 18158.0, 'First Owner', 6.0, 150.0, 'Suzuki', 136)\n",
      "('Suzuki Gixxer 150cc', 51000.0, 'Bangalore', 39140.0, 'First Owner', 5.0, 150.0, 'Suzuki', 137)\n",
      "('Bajaj Pulsar 220F', 48000.0, 'Bangalore', 27776.0, 'First Owner', 8.0, 220.0, 'Bajaj', 138)\n",
      "('Bajaj Pulsar 220cc', 55000.0, 'Bangalore', 32734.0, 'First Owner', 6.0, 220.0, 'Bajaj', 139)\n",
      "('Royal Enfield Himalayan 410cc Fi ABS', 173300.0, 'Vadodara', 14000.0, 'First Owner', 2.0, 410.0, 'Royal Enfield', 140)\n",
      "('Royal Enfield Bullet Electra 350cc', 77000.0, 'Delhi', 13000.0, 'First Owner', 8.0, 350.0, 'Royal Enfield', 141)\n",
      "('Bajaj Pulsar NS200', 115000.0, 'Bangalore', 5000.0, 'First Owner', 2.0, 200.0, 'Bajaj', 142)\n",
      "('Bajaj Discover 150cc', 36000.0, 'Hyderabad', 39500.0, 'First Owner', 7.0, 150.0, 'Bajaj', 143)\n",
      "('Bajaj Avenger Street 220', 72000.0, 'Hyderabad', 29500.0, 'First Owner', 4.0, 220.0, 'Bajaj', 144)\n",
      "('Royal Enfield Standard 350cc', 115000.0, 'Hyderabad', 14900.0, 'First Owner', 3.0, 350.0, 'Royal Enfield', 145)\n",
      "('Honda CB Shine 125cc Disc', 65000.0, 'Mumbai', 2000.0, 'First Owner', 3.0, 125.0, 'Honda', 146)\n",
      "('Honda CB Unicorn ABS 150cc', 99000.0, 'Mumbai', 4000.0, 'First Owner', 2.0, 150.0, 'Honda', 147)\n",
      "('Yamaha YZF-R15 2.0 150cc', 68500.0, 'Delhi', 68500.0, 'Second Owner', 7.0, 150.0, 'Yamaha', 148)\n",
      "('Yamaha YZF-R15 V3 150cc', 140000.0, 'Delhi', 2473.0, 'First Owner', 2.0, 150.0, 'Yamaha', 149)\n"
     ]
    }
   ],
   "source": [
    "# Show the indexed data\n",
    "cursor.execute(f\"SELECT * FROM {table_name} ORDER BY id;\")\n",
    "rows = cursor.fetchall()\n",
    "for row in rows:\n",
    "    print(row)"
   ]
  }
 ],
 "metadata": {
  "kernelspec": {
   "display_name": "Python 3 (ipykernel)",
   "language": "python",
   "name": "python3"
  },
  "language_info": {
   "codemirror_mode": {
    "name": "ipython",
    "version": 3
   },
   "file_extension": ".py",
   "mimetype": "text/x-python",
   "name": "python",
   "nbconvert_exporter": "python",
   "pygments_lexer": "ipython3",
   "version": "3.9.13"
  }
 },
 "nbformat": 4,
 "nbformat_minor": 5
}
